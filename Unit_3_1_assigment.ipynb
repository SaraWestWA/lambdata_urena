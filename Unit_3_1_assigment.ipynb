{
  "nbformat": 4,
  "nbformat_minor": 0,
  "metadata": {
    "colab": {
      "name": "Unit 3.1 assigment.ipynb",
      "provenance": [],
      "authorship_tag": "ABX9TyPVFNTzKQ6A3OXN0nBFjj3r",
      "include_colab_link": true
    },
    "kernelspec": {
      "name": "python3",
      "display_name": "Python 3"
    }
  },
  "cells": [
    {
      "cell_type": "markdown",
      "metadata": {
        "id": "view-in-github",
        "colab_type": "text"
      },
      "source": [
        "<a href=\"https://colab.research.google.com/github/urenajose/lambdata_urena/blob/main/Unit_3_1_assigment.ipynb\" target=\"_parent\"><img src=\"https://colab.research.google.com/assets/colab-badge.svg\" alt=\"Open In Colab\"/></a>"
      ]
    },
    {
      "cell_type": "code",
      "metadata": {
        "id": "QPVdf_r0ZQj3",
        "outputId": "9d74f2c8-9da2-40a3-8b06-0cdf33896226",
        "colab": {
          "base_uri": "https://localhost:8080/"
        }
      },
      "source": [
        "print(\"my repo is at:\",\"https://github.com/urenajose/lambdata_urena\")"
      ],
      "execution_count": 28,
      "outputs": [
        {
          "output_type": "stream",
          "text": [
            "my repo is at: https://github.com/urenajose/lambdata_urena\n"
          ],
          "name": "stdout"
        }
      ]
    },
    {
      "cell_type": "code",
      "metadata": {
        "id": "bOD-VVfHXvNO"
      },
      "source": [
        "import pandas as pd\n",
        "import numpy as np"
      ],
      "execution_count": 19,
      "outputs": []
    },
    {
      "cell_type": "code",
      "metadata": {
        "id": "_jzokJXxk-g5",
        "outputId": "2f8d263a-fdbb-4ca5-d3c7-8a75c5d9ebcd",
        "colab": {
          "base_uri": "https://localhost:8080/"
        }
      },
      "source": [
        "pip install -i https://test.pypi.org/simple/ lambdata-urena1==0.1.1"
      ],
      "execution_count": 1,
      "outputs": [
        {
          "output_type": "stream",
          "text": [
            "Looking in indexes: https://test.pypi.org/simple/\n",
            "Requirement already satisfied: lambdata-urena1==0.1.1 in /usr/local/lib/python3.6/dist-packages (0.1.1)\n",
            "Requirement already satisfied: pandas in /usr/local/lib/python3.6/dist-packages (from lambdata-urena1==0.1.1) (1.1.3)\n",
            "Requirement already satisfied: numpy in /usr/local/lib/python3.6/dist-packages (from lambdata-urena1==0.1.1) (1.18.5)\n",
            "Requirement already satisfied: pytz>=2017.2 in /usr/local/lib/python3.6/dist-packages (from pandas->lambdata-urena1==0.1.1) (2018.9)\n",
            "Requirement already satisfied: python-dateutil>=2.7.3 in /usr/local/lib/python3.6/dist-packages (from pandas->lambdata-urena1==0.1.1) (2.8.1)\n",
            "Requirement already satisfied: six>=1.5 in /usr/local/lib/python3.6/dist-packages (from python-dateutil>=2.7.3->pandas->lambdata-urena1==0.1.1) (1.15.0)\n"
          ],
          "name": "stdout"
        }
      ]
    },
    {
      "cell_type": "code",
      "metadata": {
        "id": "UqVoAziulAN_"
      },
      "source": [
        "import lambdata_urena1 as urena1"
      ],
      "execution_count": 2,
      "outputs": []
    },
    {
      "cell_type": "code",
      "metadata": {
        "id": "AdQcZCtRHdyZ",
        "outputId": "62000354-8f4e-4c39-8c8e-b2e1eedb1f73",
        "colab": {
          "base_uri": "https://localhost:8080/",
          "height": 52
        }
      },
      "source": [
        "'''added two functions to my pkg is a float check if string is formatted as a float and dd_mm_yyyy columns, \n",
        "pass a pd.df and a column with str with dates returns self pd.df with 3 extra columns for day, month and year'''"
      ],
      "execution_count": 3,
      "outputs": [
        {
          "output_type": "execute_result",
          "data": {
            "application/vnd.google.colaboratory.intrinsic+json": {
              "type": "string"
            },
            "text/plain": [
              "'added two functions to my pkg is a float check if string is formatted as a float and dd_mm_yyyy columns, \\npass a pd.df and a column with str with dates returns self pd.df with 3 extra columns for day, month and year'"
            ]
          },
          "metadata": {
            "tags": []
          },
          "execution_count": 3
        }
      ]
    },
    {
      "cell_type": "code",
      "metadata": {
        "id": "Lpps6QuhXskV"
      },
      "source": [
        "df_shelter = pd.read_csv('https://raw.githubusercontent.com/urenajose/DS-Unit-2-Applied-Modeling/master/aac_shelter_outcomes.csv')"
      ],
      "execution_count": 9,
      "outputs": []
    },
    {
      "cell_type": "code",
      "metadata": {
        "id": "kCmmtKSWX4_A",
        "outputId": "e575f068-2acb-4921-822f-429bcf300daa",
        "colab": {
          "base_uri": "https://localhost:8080/"
        }
      },
      "source": [
        "df_shelter.info()\n"
      ],
      "execution_count": 14,
      "outputs": [
        {
          "output_type": "stream",
          "text": [
            "<class 'pandas.core.frame.DataFrame'>\n",
            "RangeIndex: 78256 entries, 0 to 78255\n",
            "Data columns (total 12 columns):\n",
            " #   Column            Non-Null Count  Dtype \n",
            "---  ------            --------------  ----- \n",
            " 0   age_upon_outcome  78248 non-null  object\n",
            " 1   animal_id         78256 non-null  object\n",
            " 2   animal_type       78256 non-null  object\n",
            " 3   breed             78256 non-null  object\n",
            " 4   color             78256 non-null  object\n",
            " 5   date_of_birth     78256 non-null  object\n",
            " 6   datetime          78256 non-null  object\n",
            " 7   monthyear         78256 non-null  object\n",
            " 8   name              54370 non-null  object\n",
            " 9   outcome_subtype   35963 non-null  object\n",
            " 10  outcome_type      78244 non-null  object\n",
            " 11  sex_upon_outcome  78254 non-null  object\n",
            "dtypes: object(12)\n",
            "memory usage: 7.2+ MB\n"
          ],
          "name": "stdout"
        }
      ]
    },
    {
      "cell_type": "code",
      "metadata": {
        "id": "34FslYR2WWEv",
        "outputId": "5212679b-a566-4eef-9265-f4a9a3261156",
        "colab": {
          "base_uri": "https://localhost:8080/"
        }
      },
      "source": [
        "urena1.dd_mm_yyyy_columns(df_shelter,'datetime').info() #now it has 15 columns day month and year"
      ],
      "execution_count": 16,
      "outputs": [
        {
          "output_type": "stream",
          "text": [
            "<class 'pandas.core.frame.DataFrame'>\n",
            "RangeIndex: 78256 entries, 0 to 78255\n",
            "Data columns (total 15 columns):\n",
            " #   Column            Non-Null Count  Dtype \n",
            "---  ------            --------------  ----- \n",
            " 0   age_upon_outcome  78248 non-null  object\n",
            " 1   animal_id         78256 non-null  object\n",
            " 2   animal_type       78256 non-null  object\n",
            " 3   breed             78256 non-null  object\n",
            " 4   color             78256 non-null  object\n",
            " 5   date_of_birth     78256 non-null  object\n",
            " 6   datetime          78256 non-null  object\n",
            " 7   monthyear         78256 non-null  object\n",
            " 8   name              54370 non-null  object\n",
            " 9   outcome_subtype   35963 non-null  object\n",
            " 10  outcome_type      78244 non-null  object\n",
            " 11  sex_upon_outcome  78254 non-null  object\n",
            " 12  day               78256 non-null  int64 \n",
            " 13  month             78256 non-null  int64 \n",
            " 14  year              78256 non-null  int64 \n",
            "dtypes: int64(3), object(12)\n",
            "memory usage: 9.0+ MB\n"
          ],
          "name": "stdout"
        }
      ]
    },
    {
      "cell_type": "code",
      "metadata": {
        "id": "ri6GhRJFYbqy",
        "outputId": "557b8552-3c42-43fd-8cd4-5ae6658d154e",
        "colab": {
          "base_uri": "https://localhost:8080/"
        }
      },
      "source": [
        "print(urena1.isit_float(\"1.1\"),\n",
        "urena1.isit_float(\"1\"),\n",
        "urena1.isit_float(\".1\"),\n",
        "urena1.isit_float('one.one'))"
      ],
      "execution_count": 22,
      "outputs": [
        {
          "output_type": "stream",
          "text": [
            "True False True False\n"
          ],
          "name": "stdout"
        }
      ]
    },
    {
      "cell_type": "code",
      "metadata": {
        "id": "TRArPSr0lGzz",
        "outputId": "9aba7161-35aa-4d18-dbaa-b1700ca47a95",
        "colab": {
          "base_uri": "https://localhost:8080/"
        }
      },
      "source": [
        "urena1.ONES"
      ],
      "execution_count": 23,
      "outputs": [
        {
          "output_type": "execute_result",
          "data": {
            "text/plain": [
              "0    1.0\n",
              "1    1.0\n",
              "2    1.0\n",
              "3    1.0\n",
              "4    1.0\n",
              "5    1.0\n",
              "6    1.0\n",
              "7    1.0\n",
              "8    1.0\n",
              "9    1.0\n",
              "dtype: float64"
            ]
          },
          "metadata": {
            "tags": []
          },
          "execution_count": 23
        }
      ]
    },
    {
      "cell_type": "code",
      "metadata": {
        "id": "TS0OFOtilIvW",
        "outputId": "e509f612-2abc-4ca4-ba03-2845d76556e1",
        "colab": {
          "base_uri": "https://localhost:8080/"
        }
      },
      "source": [
        "urena1.ZEROS"
      ],
      "execution_count": 24,
      "outputs": [
        {
          "output_type": "execute_result",
          "data": {
            "text/plain": [
              "0     0.0\n",
              "1     0.0\n",
              "2     0.0\n",
              "3     0.0\n",
              "4     0.0\n",
              "5     0.0\n",
              "6     0.0\n",
              "7     0.0\n",
              "8     0.0\n",
              "9     0.0\n",
              "10    0.0\n",
              "11    0.0\n",
              "12    0.0\n",
              "13    0.0\n",
              "14    0.0\n",
              "15    0.0\n",
              "16    0.0\n",
              "17    0.0\n",
              "18    0.0\n",
              "19    0.0\n",
              "dtype: float64"
            ]
          },
          "metadata": {
            "tags": []
          },
          "execution_count": 24
        }
      ]
    },
    {
      "cell_type": "code",
      "metadata": {
        "id": "ktCW1KzhYa74"
      },
      "source": [
        ""
      ],
      "execution_count": null,
      "outputs": []
    }
  ]
}