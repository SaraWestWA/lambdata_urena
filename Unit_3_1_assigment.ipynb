{
  "nbformat": 4,
  "nbformat_minor": 0,
  "metadata": {
    "colab": {
      "name": "Unit 3.1 assigment.ipynb",
      "provenance": [],
      "authorship_tag": "ABX9TyPx0cETezM+qSm1/IjtRNBU",
      "include_colab_link": true
    },
    "kernelspec": {
      "name": "python3",
      "display_name": "Python 3"
    }
  },
  "cells": [
    {
      "cell_type": "markdown",
      "metadata": {
        "id": "view-in-github",
        "colab_type": "text"
      },
      "source": [
        "<a href=\"https://colab.research.google.com/github/urenajose/lambdata_urena/blob/main/Unit_3_1_assigment.ipynb\" target=\"_parent\"><img src=\"https://colab.research.google.com/assets/colab-badge.svg\" alt=\"Open In Colab\"/></a>"
      ]
    },
    {
      "cell_type": "code",
      "metadata": {
        "id": "QPVdf_r0ZQj3",
        "outputId": "15c292b1-c12f-46fe-bb46-ebdb8e00dd1a",
        "colab": {
          "base_uri": "https://localhost:8080/"
        }
      },
      "source": [
        "print(\"my repo is at:\",\"https://github.com/urenajose/lambdata_urena\")"
      ],
      "execution_count": 1,
      "outputs": [
        {
          "output_type": "stream",
          "text": [
            "my repo is at: https://github.com/urenajose/lambdata_urena\n"
          ],
          "name": "stdout"
        }
      ]
    },
    {
      "cell_type": "code",
      "metadata": {
        "id": "bOD-VVfHXvNO"
      },
      "source": [
        "import pandas as pd\n",
        "import numpy as np"
      ],
      "execution_count": 2,
      "outputs": []
    },
    {
      "cell_type": "code",
      "metadata": {
        "id": "_jzokJXxk-g5",
        "outputId": "8f75df18-16e4-400a-df52-6172987ba39a",
        "colab": {
          "base_uri": "https://localhost:8080/"
        }
      },
      "source": [
        "pip install -i https://test.pypi.org/simple/ lambdata-urena1==0.2.1"
      ],
      "execution_count": 17,
      "outputs": [
        {
          "output_type": "stream",
          "text": [
            "Looking in indexes: https://test.pypi.org/simple/\n",
            "Requirement already satisfied: lambdata-urena1==0.2.1 in /usr/local/lib/python3.6/dist-packages (0.2.1)\n",
            "Requirement already satisfied: pandas in /usr/local/lib/python3.6/dist-packages (from lambdata-urena1==0.2.1) (1.1.3)\n",
            "Requirement already satisfied: numpy in /usr/local/lib/python3.6/dist-packages (from lambdata-urena1==0.2.1) (1.18.5)\n",
            "Requirement already satisfied: pytz>=2017.2 in /usr/local/lib/python3.6/dist-packages (from pandas->lambdata-urena1==0.2.1) (2018.9)\n",
            "Requirement already satisfied: python-dateutil>=2.7.3 in /usr/local/lib/python3.6/dist-packages (from pandas->lambdata-urena1==0.2.1) (2.8.1)\n",
            "Requirement already satisfied: six>=1.5 in /usr/local/lib/python3.6/dist-packages (from python-dateutil>=2.7.3->pandas->lambdata-urena1==0.2.1) (1.15.0)\n"
          ],
          "name": "stdout"
        }
      ]
    },
    {
      "cell_type": "code",
      "metadata": {
        "id": "E-6YlNd0A_nI"
      },
      "source": [
        "import lambdata_urena1 as ju"
      ],
      "execution_count": 6,
      "outputs": []
    },
    {
      "cell_type": "code",
      "metadata": {
        "id": "AdQcZCtRHdyZ"
      },
      "source": [
        "#added two functions to my pkg is a float check if string is formatted as a float and datime_columns, \n",
        "#pass a pd.df and a column with str with dates returns self pd.df with 3 extra columns for day, month and year"
      ],
      "execution_count": 7,
      "outputs": []
    },
    {
      "cell_type": "code",
      "metadata": {
        "id": "Lpps6QuhXskV"
      },
      "source": [
        "df_shelter = pd.read_csv('https://raw.githubusercontent.com/urenajose/DS-Unit-2-Applied-Modeling/master/aac_shelter_outcomes.csv')"
      ],
      "execution_count": 19,
      "outputs": []
    },
    {
      "cell_type": "code",
      "metadata": {
        "id": "kCmmtKSWX4_A",
        "outputId": "3f194444-3584-4f01-e552-a705c0af46c8",
        "colab": {
          "base_uri": "https://localhost:8080/"
        }
      },
      "source": [
        "df_shelter.info()"
      ],
      "execution_count": 18,
      "outputs": [
        {
          "output_type": "stream",
          "text": [
            "<class 'pandas.core.frame.DataFrame'>\n",
            "RangeIndex: 78256 entries, 0 to 78255\n",
            "Data columns (total 14 columns):\n",
            " #   Column            Non-Null Count  Dtype \n",
            "---  ------            --------------  ----- \n",
            " 0   age_upon_outcome  78248 non-null  object\n",
            " 1   animal_id         78256 non-null  object\n",
            " 2   animal_type       78256 non-null  object\n",
            " 3   breed             78256 non-null  object\n",
            " 4   color             78256 non-null  object\n",
            " 5   date_of_birth     78256 non-null  object\n",
            " 6   datetime          78256 non-null  object\n",
            " 7   monthyear         78256 non-null  object\n",
            " 8   name              54370 non-null  object\n",
            " 9   outcome_subtype   35963 non-null  object\n",
            " 10  outcome_type      78244 non-null  object\n",
            " 11  sex_upon_outcome  78254 non-null  object\n",
            " 12  day               78256 non-null  int64 \n",
            " 13  year              78256 non-null  int64 \n",
            "dtypes: int64(2), object(12)\n",
            "memory usage: 8.4+ MB\n"
          ],
          "name": "stdout"
        }
      ]
    },
    {
      "cell_type": "code",
      "metadata": {
        "id": "34FslYR2WWEv",
        "outputId": "9f2f8739-0b89-463e-c6e1-53a224bc1ec6",
        "colab": {
          "base_uri": "https://localhost:8080/"
        }
      },
      "source": [
        "ju.datetime_columns(df_shelter,'datetime').info() #now it has 15 columns day month and year"
      ],
      "execution_count": 20,
      "outputs": [
        {
          "output_type": "stream",
          "text": [
            "<class 'pandas.core.frame.DataFrame'>\n",
            "RangeIndex: 78256 entries, 0 to 78255\n",
            "Data columns (total 14 columns):\n",
            " #   Column            Non-Null Count  Dtype \n",
            "---  ------            --------------  ----- \n",
            " 0   age_upon_outcome  78248 non-null  object\n",
            " 1   animal_id         78256 non-null  object\n",
            " 2   animal_type       78256 non-null  object\n",
            " 3   breed             78256 non-null  object\n",
            " 4   color             78256 non-null  object\n",
            " 5   date_of_birth     78256 non-null  object\n",
            " 6   datetime          78256 non-null  object\n",
            " 7   monthyear         78256 non-null  object\n",
            " 8   name              54370 non-null  object\n",
            " 9   outcome_subtype   35963 non-null  object\n",
            " 10  outcome_type      78244 non-null  object\n",
            " 11  sex_upon_outcome  78254 non-null  object\n",
            " 12  day               78256 non-null  int64 \n",
            " 13  year              78256 non-null  int64 \n",
            "dtypes: int64(2), object(12)\n",
            "memory usage: 8.4+ MB\n"
          ],
          "name": "stdout"
        }
      ]
    },
    {
      "cell_type": "code",
      "metadata": {
        "id": "ri6GhRJFYbqy",
        "outputId": "8578dbff-222c-48e3-ac9f-485d9a1ae90c",
        "colab": {
          "base_uri": "https://localhost:8080/"
        }
      },
      "source": [
        "print(ju.isit_float(\"1.1\"),\n",
        "ju.isit_float(\"1\"),\n",
        "ju.isit_float(\".1\"),\n",
        "ju.isit_float('one.one'))"
      ],
      "execution_count": 21,
      "outputs": [
        {
          "output_type": "stream",
          "text": [
            "True False True False\n"
          ],
          "name": "stdout"
        }
      ]
    },
    {
      "cell_type": "code",
      "metadata": {
        "id": "ktCW1KzhYa74"
      },
      "source": [
        "#added Dead poet society class to hold poem information"
      ],
      "execution_count": null,
      "outputs": []
    },
    {
      "cell_type": "code",
      "metadata": {
        "id": "RO2-QgB_CX2c",
        "outputId": "7e3ab5d5-f5e9-4c4f-ee9e-b4c69a81a603",
        "colab": {
          "base_uri": "https://localhost:8080/"
        }
      },
      "source": [
        "ju.poem1"
      ],
      "execution_count": 24,
      "outputs": [
        {
          "output_type": "execute_result",
          "data": {
            "text/plain": [
              "Dead Poets Society(Poem Title=O Captain! My Captain!, Name Of Poet=Walt Whitman,\n",
              "               Number of Words=199, Poem's Link =https://www.poetryfoundation.org/poems/45474/o-captain-my-captain)"
            ]
          },
          "metadata": {
            "tags": []
          },
          "execution_count": 24
        }
      ]
    },
    {
      "cell_type": "code",
      "metadata": {
        "id": "VMX8EsTgCcDO",
        "outputId": "c5c5f15e-52e1-4e6e-c8b6-33c6bb712fb7",
        "colab": {
          "base_uri": "https://localhost:8080/"
        }
      },
      "source": [
        "ju.poem2"
      ],
      "execution_count": 25,
      "outputs": [
        {
          "output_type": "execute_result",
          "data": {
            "text/plain": [
              "Dead Poets Society(Poem Title=To the Virgins, to Make Much of Time, Name Of Poet=Robert Herrick,\n",
              "               Number of Words=96, Poem's Link =https://www.poetryfoundation.org/poems/46546/to-the-virgins-to-make-much-of-time)"
            ]
          },
          "metadata": {
            "tags": []
          },
          "execution_count": 25
        }
      ]
    }
  ]
}